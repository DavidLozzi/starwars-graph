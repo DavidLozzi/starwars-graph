{
 "cells": [
  {
   "cell_type": "markdown",
   "metadata": {},
   "source": [
    "# Star Wars Knowledge Graph\n",
    "\n",
    "Neo4j: [192.168.68.40](http://192.168.68.40:7474/)"
   ]
  },
  {
   "cell_type": "code",
   "execution_count": 2,
   "metadata": {},
   "outputs": [
    {
     "name": "stdout",
     "output_type": "stream",
     "text": [
      "Collecting neo4j\n",
      "  Downloading neo4j-5.19.0.tar.gz (202 kB)\n",
      "\u001b[2K     \u001b[38;2;114;156;31m━━━━━━━━━━━━━━━━━━━━━━━━━━━━━━━━━━━━━━━\u001b[0m \u001b[32m203.0/203.0 kB\u001b[0m \u001b[31m8.6 MB/s\u001b[0m eta \u001b[36m0:00:00\u001b[0m\n",
      "\u001b[?25h  Installing build dependencies ... \u001b[?25ldone\n",
      "\u001b[?25h  Getting requirements to build wheel ... \u001b[?25ldone\n",
      "\u001b[?25h  Installing backend dependencies ... \u001b[?25ldone\n",
      "\u001b[?25h  Preparing metadata (pyproject.toml) ... \u001b[?25ldone\n",
      "\u001b[?25hRequirement already satisfied: pytz in /Users/david.lozzi/.pyenv/versions/3.11.1/lib/python3.11/site-packages (from neo4j) (2023.4)\n",
      "Building wheels for collected packages: neo4j\n",
      "  Building wheel for neo4j (pyproject.toml) ... \u001b[?25ldone\n",
      "\u001b[?25h  Created wheel for neo4j: filename=neo4j-5.19.0-py3-none-any.whl size=280741 sha256=2d62e81c69ccde366b8a907824bf2debc0ba3c475425fbc36940fa48ceef8c0e\n",
      "  Stored in directory: /Users/david.lozzi/Library/Caches/pip/wheels/48/0d/71/a6d5ad9ecdd1cb0fae2aeea918a9bed3d8120ded12b3cfa8ed\n",
      "Successfully built neo4j\n",
      "Installing collected packages: neo4j\n",
      "Successfully installed neo4j-5.19.0\n"
     ]
    }
   ],
   "source": [
    "!pip install neo4j"
   ]
  },
  {
   "cell_type": "markdown",
   "metadata": {},
   "source": [
    "## Schema"
   ]
  },
  {
   "cell_type": "code",
   "execution_count": 3,
   "metadata": {},
   "outputs": [],
   "source": [
    "from neo4j import GraphDatabase\n",
    "import os\n",
    "from dotenv import load_dotenv\n",
    "load_dotenv()\n",
    "password = os.getenv(\"DB_PASSWORD\")\n",
    "\n",
    "uri = \"bolt://192.168.68.40:7687\"\n",
    "driver = GraphDatabase.driver(uri, auth=(\"neo4j\", password))\n",
    "\n"
   ]
  },
  {
   "cell_type": "code",
   "execution_count": 8,
   "metadata": {},
   "outputs": [],
   "source": [
    "\n",
    "def run_query(query):\n",
    "    with driver.session() as session:\n",
    "        result = session.run(query)\n",
    "        return [record for record in result]\n",
    "\n",
    "def pretty_print_path(path_record):\n",
    "    path = path_record['path']\n",
    "    nodes = path.nodes\n",
    "    relationships = path.relationships\n",
    "\n",
    "    output = []\n",
    "    for i, node in enumerate(nodes):\n",
    "        output.append(f\"Node {i+1}: {dict(node)}\")\n",
    "        if i < len(relationships):\n",
    "            rel = relationships[i]\n",
    "            output.append(f\"  -> Relationship: {rel.type} ->\")\n",
    "\n",
    "    return \"\\n\".join(output)\n"
   ]
  },
  {
   "cell_type": "code",
   "execution_count": 4,
   "metadata": {},
   "outputs": [],
   "source": [
    "schema_queries = [\n",
    "    \"CREATE CONSTRAINT ON (c:Character) ASSERT c.name IS UNIQUE;\",\n",
    "    \"CREATE CONSTRAINT ON (l:Location) ASSERT l.name IS UNIQUE;\",\n",
    "    \"CREATE CONSTRAINT ON (v:Vehicle) ASSERT v.name IS UNIQUE;\",\n",
    "    \"CREATE CONSTRAINT ON (m:Media) ASSERT m.title IS UNIQUE;\"\n",
    "]\n",
    "\n",
    "for query in schema_queries:\n",
    "    run_query(query)\n"
   ]
  },
  {
   "cell_type": "code",
   "execution_count": 5,
   "metadata": {},
   "outputs": [
    {
     "name": "stdout",
     "output_type": "stream",
     "text": [
      "[<Record c=<Node element_id='0' labels=frozenset({'Character'}) properties={'name': 'Test Character'}>>]\n",
      "[<Record name='constraint_1589324c' description='CONSTRAINT ON ( character:Character ) ASSERT (character.name) IS UNIQUE' details=\"Constraint( id=4, name='constraint_1589324c', type='UNIQUENESS', schema=(:Character {name}), ownedIndex=3 )\">, <Record name='constraint_2973dcd5' description='CONSTRAINT ON ( location:Location ) ASSERT (location.name) IS UNIQUE' details=\"Constraint( id=6, name='constraint_2973dcd5', type='UNIQUENESS', schema=(:Location {name}), ownedIndex=5 )\">, <Record name='constraint_96f270e7' description='CONSTRAINT ON ( vehicle:Vehicle ) ASSERT (vehicle.name) IS UNIQUE' details=\"Constraint( id=8, name='constraint_96f270e7', type='UNIQUENESS', schema=(:Vehicle {name}), ownedIndex=7 )\">, <Record name='constraint_c352c9b4' description='CONSTRAINT ON ( media:Media ) ASSERT (media.title) IS UNIQUE' details=\"Constraint( id=10, name='constraint_c352c9b4', type='UNIQUENESS', schema=(:Media {title}), ownedIndex=9 )\">]\n"
     ]
    }
   ],
   "source": [
    "# Test creating a node\n",
    "test_query = \"CREATE (c:Character {name: 'Test Character'}) RETURN c\"\n",
    "result = run_query(test_query)\n",
    "print(result)\n",
    "\n",
    "# View all constraints in the database\n",
    "constraints_query = \"CALL db.constraints()\"\n",
    "constraints_result = run_query(constraints_query)\n",
    "print(constraints_result)\n"
   ]
  },
  {
   "cell_type": "code",
   "execution_count": 20,
   "metadata": {},
   "outputs": [
    {
     "data": {
      "text/plain": [
       "[]"
      ]
     },
     "execution_count": 20,
     "metadata": {},
     "output_type": "execute_result"
    },
    {
     "ename": "",
     "evalue": "",
     "output_type": "error",
     "traceback": [
      "\u001b[1;31mThe Kernel crashed while executing code in the current cell or a previous cell. \n",
      "\u001b[1;31mPlease review the code in the cell(s) to identify a possible cause of the failure. \n",
      "\u001b[1;31mClick <a href='https://aka.ms/vscodeJupyterKernelCrash'>here</a> for more info. \n",
      "\u001b[1;31mView Jupyter <a href='command:jupyter.viewOutput'>log</a> for further details."
     ]
    }
   ],
   "source": [
    "# Create Obi-Wan Kenobi and relate him to a movie\n",
    "create_obiwan_and_relationship = \"\"\"\n",
    "CREATE (lea:Character {name: \"Princess Leia Organa\", species: \"Human\"})\n",
    "MERGE (newHope:Movie {title: \"Star Wars: A New Hope\"})\n",
    "CREATE (lea)-[:APPEARED_IN]->(newHope)\n",
    "\"\"\"\n",
    "run_query(create_obiwan_and_relationship)\n"
   ]
  },
  {
   "cell_type": "code",
   "execution_count": 14,
   "metadata": {},
   "outputs": [],
   "source": [
    "# Query to find all paths between Luke Skywalker and Anakin Skywalker\n",
    "find_paths_query = \"\"\"\n",
    "MATCH path = (obiwan:Character {name: \"Obi-wan Kenobi\"})-[:APPEARED_IN*]-(movie:Movie)-[:APPEARED_IN*]-(anakin:Character {name: \"Anakin Skywalker\"})\n",
    "RETURN path\n",
    "\"\"\"\n",
    "\n",
    "# Execute the query to find paths\n",
    "paths = run_query(find_paths_query)\n",
    "\n",
    "# Pretty print each path found\n",
    "for path in paths:\n",
    "    print(pretty_print_path(path))\n",
    "    print(\"\\n\")"
   ]
  },
  {
   "cell_type": "code",
   "execution_count": 19,
   "metadata": {},
   "outputs": [
    {
     "name": "stdout",
     "output_type": "stream",
     "text": [
      "[<Record o=<Node element_id='9' labels=frozenset({'Character'}) properties={'species': 'Human', 'name': 'Obi-Wan Kenobi'}>>]\n",
      "[<Record o.name='Obi-Wan Kenobi' collect(m.title)=['Star Wars: A New Hope', 'Star Wars: The Phantom Menace']>]\n"
     ]
    }
   ],
   "source": [
    "# Check if Obi-Wan Kenobi node exists\n",
    "exists_query = \"MATCH (o:Character {name: 'Obi-Wan Kenobi'}) RETURN o\"\n",
    "obiwan_exists = run_query(exists_query)\n",
    "print(obiwan_exists)\n",
    "\n",
    "# Check if Obi-Wan Kenobi has APPEARED_IN relationships\n",
    "relationships_query = \"MATCH (o:Character {name: 'Obi-Wan Kenobi'})-[:APPEARED_IN]->(m:Movie) RETURN o.name, collect(m.title)\"\n",
    "obiwan_relationships = run_query(relationships_query)\n",
    "print(obiwan_relationships)"
   ]
  },
  {
   "cell_type": "code",
   "execution_count": null,
   "metadata": {},
   "outputs": [],
   "source": []
  }
 ],
 "metadata": {
  "kernelspec": {
   "display_name": "Python 3",
   "language": "python",
   "name": "python3"
  },
  "language_info": {
   "codemirror_mode": {
    "name": "ipython",
    "version": 3
   },
   "file_extension": ".py",
   "mimetype": "text/x-python",
   "name": "python",
   "nbconvert_exporter": "python",
   "pygments_lexer": "ipython3",
   "version": "3.11.1"
  }
 },
 "nbformat": 4,
 "nbformat_minor": 2
}

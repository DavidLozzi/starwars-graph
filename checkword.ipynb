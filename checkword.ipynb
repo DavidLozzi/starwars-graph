{
 "cells": [
  {
   "cell_type": "code",
   "execution_count": 1,
   "metadata": {},
   "outputs": [],
   "source": [
    "import psycopg2\n",
    "from psycopg2 import sql, pool\n",
    "from psycopg2.extensions import ISOLATION_LEVEL_AUTOCOMMIT\n",
    "import psycopg2.extras\n",
    "\n",
    "import asyncpg\n",
    "\n",
    "import httpx\n",
    "import asyncio\n",
    "import json\n",
    "from bs4 import BeautifulSoup\n",
    "import datetime\n",
    "import time\n",
    "import os\n",
    "import re\n",
    "from dotenv import load_dotenv\n",
    "\n",
    "load_dotenv()\n",
    "password = os.getenv(\"DB_PASSWORD\")\n",
    "postgres_srv = os.getenv(\"POSTGRES_SRV\")\n",
    "redis_srv = os.getenv(\"REDIS_SRV\")\n",
    "openai_key = os.getenv(\"OPENAI_KEY\")"
   ]
  },
  {
   "cell_type": "code",
   "execution_count": 24,
   "metadata": {},
   "outputs": [],
   "source": [
    "db_params = {\n",
    "    \"database\": \"star_wars_data\",\n",
    "    \"user\": \"postgres\",\n",
    "    \"password\": password,\n",
    "    \"host\": postgres_srv,\n",
    "    \"port\": \"5432\",\n",
    "}\n",
    "\n",
    "async def check_word(word):\n",
    "  try:\n",
    "    conn = await asyncpg.connect(**db_params)\n",
    "    query = \"\"\"\n",
    "    SELECT word, similarity(word, $1)\n",
    "    FROM words\n",
    "    WHERE word % $1\n",
    "    AND word_length > 3\n",
    "    ORDER BY similarity(word, $1) DESC\n",
    "    LIMIT 1;\n",
    "    \"\"\"\n",
    "    record = await conn.fetchrow(query, word)\n",
    "    await conn.close()\n",
    "    if record is None:\n",
    "        return None\n",
    "    else:\n",
    "        return record['word'], record['similarity']\n",
    "\n",
    "  except Exception as e:\n",
    "    print(f\"A database error occurred: {e}\")"
   ]
  },
  {
   "cell_type": "code",
   "execution_count": 28,
   "metadata": {},
   "outputs": [
    {
     "data": {
      "text/plain": [
       "('luky', 0.5)"
      ]
     },
     "execution_count": 28,
     "metadata": {},
     "output_type": "execute_result"
    }
   ],
   "source": [
    "await check_word(\"luk\")"
   ]
  },
  {
   "cell_type": "code",
   "execution_count": null,
   "metadata": {},
   "outputs": [],
   "source": []
  }
 ],
 "metadata": {
  "kernelspec": {
   "display_name": "Python 3",
   "language": "python",
   "name": "python3"
  },
  "language_info": {
   "codemirror_mode": {
    "name": "ipython",
    "version": 3
   },
   "file_extension": ".py",
   "mimetype": "text/x-python",
   "name": "python",
   "nbconvert_exporter": "python",
   "pygments_lexer": "ipython3",
   "version": "3.11.1"
  }
 },
 "nbformat": 4,
 "nbformat_minor": 2
}
